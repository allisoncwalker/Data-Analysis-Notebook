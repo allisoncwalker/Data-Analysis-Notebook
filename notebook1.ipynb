{
 "cells": [
  {
   "cell_type": "code",
   "execution_count": 198,
   "metadata": {},
   "outputs": [],
   "source": [
    "import pandas as pd\n",
    "import matplotlib.pyplot as plt\n",
    "import matplotlib.patches as mp\n",
    "import seaborn as sns\n",
    "import numpy as np\n",
    "import datetime"
   ]
  },
  {
   "cell_type": "code",
   "execution_count": 199,
   "metadata": {},
   "outputs": [],
   "source": [
    "TV_df = pd.read_csv(\"data_TV.csv\")"
   ]
  },
  {
   "cell_type": "code",
   "execution_count": 200,
   "metadata": {},
   "outputs": [
    {
     "data": {
      "text/plain": [
       "first_air_date        object\n",
       "origin_country        object\n",
       "original_language     object\n",
       "name                  object\n",
       "popularity           float64\n",
       "vote_average         float64\n",
       "vote_count             int64\n",
       "overview              object\n",
       "dtype: object"
      ]
     },
     "execution_count": 200,
     "metadata": {},
     "output_type": "execute_result"
    }
   ],
   "source": [
    "TV_df.dtypes"
   ]
  },
  {
   "cell_type": "markdown",
   "metadata": {},
   "source": [
    "##### Filling all nulls with 'Unknown'"
   ]
  },
  {
   "cell_type": "code",
   "execution_count": 201,
   "metadata": {},
   "outputs": [],
   "source": [
    "TV_df.overview = TV_df.overview.fillna('Unknown')\n",
    "TV_df.first_air_date = TV_df.first_air_date.fillna('Unknown')\n",
    "\n",
    "# TV_df[TV_df.first_air_date != 'Unknown']['first_air_date'] = pd.to_datetime(TV_df['first_air_date'])"
   ]
  },
  {
   "cell_type": "code",
   "execution_count": 202,
   "metadata": {},
   "outputs": [
    {
     "data": {
      "text/plain": [
       "first_air_date        object\n",
       "origin_country        object\n",
       "original_language     object\n",
       "name                  object\n",
       "popularity           float64\n",
       "vote_average         float64\n",
       "vote_count             int64\n",
       "overview              object\n",
       "dtype: object"
      ]
     },
     "execution_count": 202,
     "metadata": {},
     "output_type": "execute_result"
    }
   ],
   "source": [
    "TV_df.dtypes"
   ]
  },
  {
   "cell_type": "code",
   "execution_count": 203,
   "metadata": {},
   "outputs": [
    {
     "data": {
      "text/plain": [
       "first_air_date       2617\n",
       "origin_country       2617\n",
       "original_language    2617\n",
       "name                 2617\n",
       "popularity           2617\n",
       "vote_average         2617\n",
       "vote_count           2617\n",
       "overview             2617\n",
       "dtype: int64"
      ]
     },
     "execution_count": 203,
     "metadata": {},
     "output_type": "execute_result"
    }
   ],
   "source": [
    "TV_df.count()"
   ]
  },
  {
   "cell_type": "code",
   "execution_count": 204,
   "metadata": {},
   "outputs": [
    {
     "data": {
      "text/plain": [
       "US               1377\n",
       "JP                393\n",
       "GB                169\n",
       "MX                148\n",
       "KR                 98\n",
       "CO                 55\n",
       "ES                 49\n",
       "CA                 39\n",
       "c(\"CA\", \"US\")      24\n",
       "character(0)       23\n",
       "BR                 20\n",
       "TR                 20\n",
       "FR                 19\n",
       "IT                 13\n",
       "AR                 11\n",
       "DE                 11\n",
       "c(\"US\", \"CA\")      11\n",
       "CN                 10\n",
       "c(\"GB\", \"US\")       9\n",
       "AU                  8\n",
       "Name: origin_country, dtype: int64"
      ]
     },
     "execution_count": 204,
     "metadata": {},
     "output_type": "execute_result"
    }
   ],
   "source": [
    "TV_df['origin_country'].value_counts().sort_values(ascending= False).head(20)"
   ]
  },
  {
   "cell_type": "code",
   "execution_count": 205,
   "metadata": {},
   "outputs": [],
   "source": [
    "TV_df[\"countryLen\"]= TV_df[\"origin_country\"].str.len()"
   ]
  },
  {
   "cell_type": "code",
   "execution_count": 206,
   "metadata": {},
   "outputs": [
    {
     "data": {
      "text/plain": [
       "first_air_date       2617\n",
       "origin_country       2617\n",
       "original_language    2617\n",
       "name                 2617\n",
       "popularity           2617\n",
       "vote_average         2617\n",
       "vote_count           2617\n",
       "overview             2617\n",
       "countryLen           2617\n",
       "dtype: int64"
      ]
     },
     "execution_count": 206,
     "metadata": {},
     "output_type": "execute_result"
    }
   ],
   "source": [
    "TV_df.count()"
   ]
  },
  {
   "cell_type": "code",
   "execution_count": 207,
   "metadata": {},
   "outputs": [
    {
     "data": {
      "text/plain": [
       "US    1377\n",
       "JP     393\n",
       "GB     169\n",
       "MX     148\n",
       "KR      98\n",
       "CO      55\n",
       "ES      49\n",
       "CA      39\n",
       "TR      20\n",
       "BR      20\n",
       "FR      19\n",
       "IT      13\n",
       "AR      11\n",
       "DE      11\n",
       "CN      10\n",
       "Name: origin_country, dtype: int64"
      ]
     },
     "execution_count": 207,
     "metadata": {},
     "output_type": "execute_result"
    }
   ],
   "source": [
    "TV_df[TV_df.countryLen == 2]['origin_country'].value_counts().sort_values(ascending= False).head(15)"
   ]
  },
  {
   "cell_type": "code",
   "execution_count": 246,
   "metadata": {},
   "outputs": [],
   "source": [
    "top_15 = TV_df[TV_df.countryLen == 2].groupby('origin_country').count().reset_index().sort_values(ascending=False, by='origin_country')[0:15]['origin_country']\n",
    "top_15_df = TV_df[TV_df['origin_country'].isin(top_15)]\n"
   ]
  },
  {
   "cell_type": "markdown",
   "metadata": {},
   "source": [
    "##### !!Try and display numbers on top of bars"
   ]
  },
  {
   "cell_type": "code",
   "execution_count": 248,
   "metadata": {},
   "outputs": [
    {
     "data": {
      "text/plain": [
       "Text(0.5, 1.0, 'Total Show count according to type')"
      ]
     },
     "execution_count": 248,
     "metadata": {},
     "output_type": "execute_result"
    },
    {
     "data": {
      "image/png": "[encoded data removed]",
      "text/plain": [
       "<Figure size 1008x432 with 1 Axes>"
      ]
     },
     "metadata": {
      "needs_background": "light"
     },
     "output_type": "display_data"
    }
   ],
   "source": [
    "plt.figure(figsize=(14,6))\n",
    "sns.countplot(x='origin_country', data=top_15_df)\n",
    "plt.xlabel('Type of Shows')\n",
    "plt.ylabel('Count of Shows')\n",
    "plt.title('Total Show count according to type')"
   ]
  },
  {
   "cell_type": "markdown",
   "metadata": {},
   "source": [
    "##### !!Trying to make a scatter plot of movies produced by the top 15 countries for each year."
   ]
  },
  {
   "cell_type": "code",
   "execution_count": 261,
   "metadata": {},
   "outputs": [
    {
     "name": "stdout",
     "output_type": "stream",
     "text": [
      "0       2021\n",
      "1       2008\n",
      "2       2021\n",
      "3       2013\n",
      "4       2022\n",
      "        ... \n",
      "2612    2002\n",
      "2613    2000\n",
      "2614    1997\n",
      "2615    1985\n",
      "2616    2006\n",
      "Name: Year, Length: 2617, dtype: object\n"
     ]
    },
    {
     "data": {
      "text/plain": [
       "first_air_date        object\n",
       "origin_country        object\n",
       "original_language     object\n",
       "name                  object\n",
       "popularity           float64\n",
       "vote_average         float64\n",
       "vote_count             int64\n",
       "overview              object\n",
       "countryLen             int64\n",
       "Year                  object\n",
       "dtype: object"
      ]
     },
     "execution_count": 261,
     "metadata": {},
     "output_type": "execute_result"
    }
   ],
   "source": [
    "\n",
    "TV_df['Year'] = TV_df[TV_df.first_air_date != 'Unknown']['first_air_date'].dropna().astype(str).str[0:4] \n",
    "print(TV_df['Year'])\n",
    "TV_df.dtypes\n",
    "\n"
   ]
  },
  {
   "cell_type": "code",
   "execution_count": null,
   "metadata": {},
   "outputs": [],
   "source": []
  }
 ],
 "metadata": {
  "kernelspec": {
   "display_name": "Python 3.9.7 ('base')",
   "language": "python",
   "name": "python3"
  },
  "language_info": {
   "codemirror_mode": {
    "name": "ipython",
    "version": 3
   },
   "file_extension": ".py",
   "mimetype": "text/x-python",
   "name": "python",
   "nbconvert_exporter": "python",
   "pygments_lexer": "ipython3",
   "version": "3.9.7"
  },
  "orig_nbformat": 4,
  "vscode": {
   "interpreter": {
    "hash": "da819fa61496d6fe53c474801bac149596d1f31729fcef551f305afd74db2b27"
   }
  }
 },
 "nbformat": 4,
 "nbformat_minor": 2
}
