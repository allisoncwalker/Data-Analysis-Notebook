{
 "cells": [
  {
   "cell_type": "code",
   "execution_count": 1,
   "metadata": {},
   "outputs": [],
   "source": [
    "import pandas as pd\n",
    "import matplotlib.pyplot as plt\n",
    "import matplotlib.patches as mp\n",
    "import seaborn as sns\n",
    "import numpy as np"
   ]
  },
  {
   "cell_type": "code",
   "execution_count": 7,
   "metadata": {},
   "outputs": [],
   "source": [
    "TV_df = pd.read_csv(\"data_TV.csv\")"
   ]
  },
  {
   "cell_type": "code",
   "execution_count": 8,
   "metadata": {},
   "outputs": [
    {
     "data": {
      "text/plain": [
       "first_air_date        object\n",
       "origin_country        object\n",
       "original_language     object\n",
       "name                  object\n",
       "popularity           float64\n",
       "vote_average         float64\n",
       "vote_count             int64\n",
       "overview              object\n",
       "dtype: object"
      ]
     },
     "execution_count": 8,
     "metadata": {},
     "output_type": "execute_result"
    }
   ],
   "source": [
    "TV_df.dtypes"
   ]
  },
  {
   "cell_type": "markdown",
   "metadata": {},
   "source": [
    "##### Filling all nulls with 'Unknown'"
   ]
  },
  {
   "cell_type": "code",
   "execution_count": 13,
   "metadata": {},
   "outputs": [],
   "source": [
    "TV_df.overview = TV_df.overview.fillna('Unknown')\n",
    "TV_df.first_air_date = TV_df.first_air_date.fillna('Unknown')\n"
   ]
  },
  {
   "cell_type": "code",
   "execution_count": 14,
   "metadata": {},
   "outputs": [
    {
     "data": {
      "text/plain": [
       "first_air_date       2617\n",
       "origin_country       2617\n",
       "original_language    2617\n",
       "name                 2617\n",
       "popularity           2617\n",
       "vote_average         2617\n",
       "vote_count           2617\n",
       "overview             2617\n",
       "dtype: int64"
      ]
     },
     "execution_count": 14,
     "metadata": {},
     "output_type": "execute_result"
    }
   ],
   "source": [
    "TV_df.count()"
   ]
  },
  {
   "cell_type": "code",
   "execution_count": 19,
   "metadata": {},
   "outputs": [
    {
     "data": {
      "text/plain": [
       "US               1377\n",
       "JP                393\n",
       "GB                169\n",
       "MX                148\n",
       "KR                 98\n",
       "CO                 55\n",
       "ES                 49\n",
       "CA                 39\n",
       "c(\"CA\", \"US\")      24\n",
       "character(0)       23\n",
       "BR                 20\n",
       "TR                 20\n",
       "FR                 19\n",
       "IT                 13\n",
       "AR                 11\n",
       "DE                 11\n",
       "c(\"US\", \"CA\")      11\n",
       "CN                 10\n",
       "c(\"GB\", \"US\")       9\n",
       "AU                  8\n",
       "Name: origin_country, dtype: int64"
      ]
     },
     "execution_count": 19,
     "metadata": {},
     "output_type": "execute_result"
    }
   ],
   "source": [
    "TV_df['origin_country'].value_counts().sort_values(ascending= False).head(20)"
   ]
  }
 ],
 "metadata": {
  "kernelspec": {
   "display_name": "Python 3.9.7 ('base')",
   "language": "python",
   "name": "python3"
  },
  "language_info": {
   "codemirror_mode": {
    "name": "ipython",
    "version": 3
   },
   "file_extension": ".py",
   "mimetype": "text/x-python",
   "name": "python",
   "nbconvert_exporter": "python",
   "pygments_lexer": "ipython3",
   "version": "3.9.7"
  },
  "orig_nbformat": 4,
  "vscode": {
   "interpreter": {
    "hash": "da819fa61496d6fe53c474801bac149596d1f31729fcef551f305afd74db2b27"
   }
  }
 },
 "nbformat": 4,
 "nbformat_minor": 2
}
