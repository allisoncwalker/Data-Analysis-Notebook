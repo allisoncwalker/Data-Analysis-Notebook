{
 "cells": [
  {
   "cell_type": "code",
   "execution_count": 101,
   "metadata": {},
   "outputs": [],
   "source": [
    "import pandas as pd\n",
    "import matplotlib.pyplot as plt\n",
    "import matplotlib.patches as mp\n",
    "import seaborn as sns\n",
    "import numpy as np\n",
    "import datetime"
   ]
  },
  {
   "cell_type": "code",
   "execution_count": 102,
   "metadata": {},
   "outputs": [],
   "source": [
    "TV_df = pd.read_csv(\"data_TV.csv\")"
   ]
  },
  {
   "cell_type": "code",
   "execution_count": 103,
   "metadata": {},
   "outputs": [
    {
     "data": {
      "text/plain": [
       "first_air_date        object\n",
       "origin_country        object\n",
       "original_language     object\n",
       "name                  object\n",
       "popularity           float64\n",
       "vote_average         float64\n",
       "vote_count             int64\n",
       "overview              object\n",
       "dtype: object"
      ]
     },
     "execution_count": 103,
     "metadata": {},
     "output_type": "execute_result"
    }
   ],
   "source": [
    "TV_df.dtypes"
   ]
  },
  {
   "cell_type": "markdown",
   "metadata": {},
   "source": [
    "##### Filling all nulls with 'Unknown'"
   ]
  },
  {
   "cell_type": "code",
   "execution_count": 104,
   "metadata": {},
   "outputs": [],
   "source": [
    "TV_df.overview = TV_df.overview.fillna('Unknown')\n",
    "# TV_df.first_air_date = TV_df.first_air_date.fillna('Unknown')\n",
    "\n",
    "# TV_df[TV_df.first_air_date != 'Unknown']['first_air_date'] = pd.to_datetime(TV_df['first_air_date'])"
   ]
  },
  {
   "cell_type": "code",
   "execution_count": 105,
   "metadata": {},
   "outputs": [
    {
     "data": {
      "text/plain": [
       "first_air_date        object\n",
       "origin_country        object\n",
       "original_language     object\n",
       "name                  object\n",
       "popularity           float64\n",
       "vote_average         float64\n",
       "vote_count             int64\n",
       "overview              object\n",
       "dtype: object"
      ]
     },
     "execution_count": 105,
     "metadata": {},
     "output_type": "execute_result"
    }
   ],
   "source": [
    "TV_df.dtypes"
   ]
  },
  {
   "cell_type": "code",
   "execution_count": 106,
   "metadata": {},
   "outputs": [
    {
     "data": {
      "text/plain": [
       "first_air_date       2611\n",
       "origin_country       2617\n",
       "original_language    2617\n",
       "name                 2617\n",
       "popularity           2617\n",
       "vote_average         2617\n",
       "vote_count           2617\n",
       "overview             2617\n",
       "dtype: int64"
      ]
     },
     "execution_count": 106,
     "metadata": {},
     "output_type": "execute_result"
    }
   ],
   "source": [
    "TV_df.count()"
   ]
  },
  {
   "cell_type": "code",
   "execution_count": 107,
   "metadata": {},
   "outputs": [
    {
     "data": {
      "text/plain": [
       "US               1377\n",
       "JP                393\n",
       "GB                169\n",
       "MX                148\n",
       "KR                 98\n",
       "CO                 55\n",
       "ES                 49\n",
       "CA                 39\n",
       "c(\"CA\", \"US\")      24\n",
       "character(0)       23\n",
       "BR                 20\n",
       "TR                 20\n",
       "FR                 19\n",
       "IT                 13\n",
       "AR                 11\n",
       "DE                 11\n",
       "c(\"US\", \"CA\")      11\n",
       "CN                 10\n",
       "c(\"GB\", \"US\")       9\n",
       "AU                  8\n",
       "Name: origin_country, dtype: int64"
      ]
     },
     "execution_count": 107,
     "metadata": {},
     "output_type": "execute_result"
    }
   ],
   "source": [
    "TV_df['origin_country'].value_counts().sort_values(ascending= False).head(20)"
   ]
  },
  {
   "cell_type": "code",
   "execution_count": 108,
   "metadata": {},
   "outputs": [],
   "source": [
    "TV_df[\"countryLen\"]= TV_df[\"origin_country\"].str.len()"
   ]
  },
  {
   "cell_type": "code",
   "execution_count": 109,
   "metadata": {},
   "outputs": [
    {
     "data": {
      "text/plain": [
       "first_air_date       2611\n",
       "origin_country       2617\n",
       "original_language    2617\n",
       "name                 2617\n",
       "popularity           2617\n",
       "vote_average         2617\n",
       "vote_count           2617\n",
       "overview             2617\n",
       "countryLen           2617\n",
       "dtype: int64"
      ]
     },
     "execution_count": 109,
     "metadata": {},
     "output_type": "execute_result"
    }
   ],
   "source": [
    "TV_df.count()"
   ]
  },
  {
   "cell_type": "code",
   "execution_count": 110,
   "metadata": {},
   "outputs": [
    {
     "data": {
      "text/plain": [
       "US    1377\n",
       "JP     393\n",
       "GB     169\n",
       "MX     148\n",
       "KR      98\n",
       "CO      55\n",
       "ES      49\n",
       "CA      39\n",
       "TR      20\n",
       "BR      20\n",
       "FR      19\n",
       "IT      13\n",
       "AR      11\n",
       "DE      11\n",
       "CN      10\n",
       "Name: origin_country, dtype: int64"
      ]
     },
     "execution_count": 110,
     "metadata": {},
     "output_type": "execute_result"
    }
   ],
   "source": [
    "TV_df[TV_df.countryLen == 2]['origin_country'].value_counts().sort_values(ascending= False).head(15)"
   ]
  },
  {
   "cell_type": "code",
   "execution_count": 111,
   "metadata": {},
   "outputs": [],
   "source": [
    "top_15 = TV_df[TV_df.countryLen == 2].groupby('origin_country').count().reset_index().sort_values(ascending=False, by='origin_country')[0:15]['origin_country']\n",
    "top_15_df = TV_df[TV_df['origin_country'].isin(top_15)]\n"
   ]
  },
  {
   "cell_type": "markdown",
   "metadata": {},
   "source": [
    "##### !!Try and display numbers on top of bars"
   ]
  },
  {
   "cell_type": "code",
   "execution_count": 112,
   "metadata": {},
   "outputs": [
    {
     "data": {
      "text/plain": [
       "Text(0.5, 1.0, 'Total Show count according to type')"
      ]
     },
     "execution_count": 112,
     "metadata": {},
     "output_type": "execute_result"
    },
    {
     "data": {
      "image/png": "[encoded data removed]",
      "text/plain": [
       "<Figure size 1008x432 with 1 Axes>"
      ]
     },
     "metadata": {
      "needs_background": "light"
     },
     "output_type": "display_data"
    }
   ],
   "source": [
    "plt.figure(figsize=(14,6))\n",
    "sns.countplot(x='origin_country', data=top_15_df)\n",
    "plt.xlabel('Type of Shows')\n",
    "plt.ylabel('Count of Shows')\n",
    "plt.title('Total Show count according to type')"
   ]
  },
  {
   "cell_type": "markdown",
   "metadata": {},
   "source": [
    "##### !!Trying to make a scatter plot of movies produced by the top 15 countries for each year."
   ]
  },
  {
   "cell_type": "code",
   "execution_count": 113,
   "metadata": {},
   "outputs": [
    {
     "name": "stdout",
     "output_type": "stream",
     "text": [
      "0       2021\n",
      "1       2008\n",
      "2       2021\n",
      "3       2013\n",
      "4       2022\n",
      "        ... \n",
      "2612    2002\n",
      "2613    2000\n",
      "2614    1997\n",
      "2615    1985\n",
      "2616    2006\n",
      "Name: Year, Length: 2617, dtype: object\n"
     ]
    }
   ],
   "source": [
    "\n",
    "TV_df['Year'] = TV_df[TV_df.first_air_date != 'Unkown']['first_air_date'].dropna().astype(str).str[0:4] \n",
    "\n",
    "print(TV_df['Year'])\n",
    "\n",
    "\n"
   ]
  },
  {
   "cell_type": "code",
   "execution_count": 114,
   "metadata": {},
   "outputs": [
    {
     "data": {
      "text/plain": [
       "first_air_date        object\n",
       "origin_country        object\n",
       "original_language     object\n",
       "name                  object\n",
       "popularity           float64\n",
       "vote_average         float64\n",
       "vote_count             int64\n",
       "overview              object\n",
       "countryLen             int64\n",
       "Year                  object\n",
       "dtype: object"
      ]
     },
     "execution_count": 114,
     "metadata": {},
     "output_type": "execute_result"
    }
   ],
   "source": [
    "TV_df.dtypes"
   ]
  },
  {
   "cell_type": "code",
   "execution_count": 115,
   "metadata": {},
   "outputs": [
    {
     "data": {
      "text/plain": [
       "first_air_date        object\n",
       "origin_country        object\n",
       "original_language     object\n",
       "name                  object\n",
       "popularity           float64\n",
       "vote_average         float64\n",
       "vote_count             int64\n",
       "overview              object\n",
       "countryLen             int64\n",
       "Year                 float64\n",
       "dtype: object"
      ]
     },
     "execution_count": 115,
     "metadata": {},
     "output_type": "execute_result"
    }
   ],
   "source": [
    "TV_df.Year = TV_df.Year.astype(float)\n",
    "TV_df.dtypes"
   ]
  },
  {
   "cell_type": "code",
   "execution_count": 168,
   "metadata": {},
   "outputs": [],
   "source": [
    "top_15 = TV_df[TV_df.countryLen == 2].groupby('origin_country').count().reset_index().sort_values(ascending=False, by='origin_country')['origin_country']\n",
    "top_15_df = TV_df[TV_df['origin_country'].isin(top_15)]\n"
   ]
  },
  {
   "cell_type": "code",
   "execution_count": 169,
   "metadata": {},
   "outputs": [
    {
     "data": {
      "text/plain": [
       "(1970.0, 2021.0)"
      ]
     },
     "execution_count": 169,
     "metadata": {},
     "output_type": "execute_result"
    },
    {
     "data": {
      "image/png": "[encoded data removed]",
      "text/plain": [
       "<Figure size 864x432 with 1 Axes>"
      ]
     },
     "metadata": {
      "needs_background": "light"
     },
     "output_type": "display_data"
    }
   ],
   "source": [
    "plt.figure(figsize=(12,6))\n",
    "sns.stripplot(y='origin_country', x='Year', data=top_15_df)\n",
    "plt.xlim(1970,2021)"
   ]
  },
  {
   "cell_type": "code",
   "execution_count": 170,
   "metadata": {},
   "outputs": [
    {
     "data": {
      "text/plain": [
       "name\n",
       "House of the Dragon                           6684.611\n",
       "Dahmer – Monster: The Jeffrey Dahmer Story    5865.900\n",
       "The Lord of the Rings: The Rings of Power     4787.462\n",
       "She-Hulk: Attorney at Law                     2493.030\n",
       "Rick and Morty                                1511.996\n",
       "Chucky                                        1480.652\n",
       "The Walking Dead                              1443.081\n",
       "American Horror Story                         1193.941\n",
       "Game of Thrones                               1063.455\n",
       "Grey's Anatomy                                 838.791\n",
       "Name: popularity, dtype: float64"
      ]
     },
     "execution_count": 170,
     "metadata": {},
     "output_type": "execute_result"
    }
   ],
   "source": [
    "TV_df[TV_df.origin_country =='US'].groupby('name')['popularity'].max().sort_values(ascending=False).head(10)"
   ]
  },
  {
   "cell_type": "code",
   "execution_count": 171,
   "metadata": {},
   "outputs": [
    {
     "data": {
      "text/plain": [
       "name\n",
       "The D'Amelio Show       9.0\n",
       "Breaking Bad            8.8\n",
       "Arcane                  8.7\n",
       "Helluva Boss            8.7\n",
       "The Owl House           8.7\n",
       "Big Time Rush           8.7\n",
       "Primal                  8.7\n",
       "The Umbrella Academy    8.7\n",
       "The Kardashians         8.7\n",
       "Invincible              8.7\n",
       "Name: vote_average, dtype: float64"
      ]
     },
     "execution_count": 171,
     "metadata": {},
     "output_type": "execute_result"
    }
   ],
   "source": [
    "TV_df[TV_df.origin_country =='US'].groupby('name')['vote_average'].max().sort_values(ascending=False).head(10)"
   ]
  },
  {
   "cell_type": "code",
   "execution_count": 172,
   "metadata": {},
   "outputs": [
    {
     "data": {
      "text/plain": [
       "name\n",
       "Game of Thrones     19459\n",
       "Stranger Things     14027\n",
       "The Walking Dead    13802\n",
       "Riverdale           12828\n",
       "Lucifer             12599\n",
       "The Good Doctor     10868\n",
       "WandaVision         10538\n",
       "Breaking Bad        10131\n",
       "The Flash            9993\n",
       "Loki                 9319\n",
       "Name: vote_count, dtype: int64"
      ]
     },
     "execution_count": 172,
     "metadata": {},
     "output_type": "execute_result"
    }
   ],
   "source": [
    "# plt.figure(figsize=(12,6))\n",
    "TV_df[TV_df.origin_country =='US'].groupby('name')['vote_count','Year',''].mean().sort_values(ascending=False).head(10)\n",
    "# sns.barplot(y='origin_country', x='vote_average', data=top_15_df)\n",
    "# plt.xlim(1970,2021)\n",
    "# .sort_values(ascending=False)"
   ]
  },
  {
   "cell_type": "code",
   "execution_count": 173,
   "metadata": {},
   "outputs": [
    {
     "data": {
      "text/plain": [
       "Year\n",
       "2020.0    122\n",
       "2021.0    108\n",
       "2019.0     93\n",
       "2017.0     74\n",
       "2018.0     70\n",
       "2016.0     68\n",
       "2015.0     67\n",
       "2014.0     65\n",
       "2013.0     48\n",
       "2012.0     41\n",
       "2011.0     41\n",
       "2009.0     41\n",
       "2010.0     39\n",
       "2022.0     37\n",
       "2005.0     30\n",
       "2003.0     29\n",
       "2008.0     25\n",
       "2007.0     24\n",
       "2004.0     23\n",
       "2001.0     20\n",
       "Name: name, dtype: int64"
      ]
     },
     "execution_count": 173,
     "metadata": {},
     "output_type": "execute_result"
    }
   ],
   "source": [
    "TV_df[TV_df.origin_country =='US'].groupby('Year')['name'].count().sort_values(ascending=False).head(20)"
   ]
  },
  {
   "cell_type": "markdown",
   "metadata": {},
   "source": [
    "##### How many movies were made by each top 15 country in 2020?"
   ]
  },
  {
   "cell_type": "code",
   "execution_count": 177,
   "metadata": {},
   "outputs": [
    {
     "data": {
      "text/plain": [
       "(1970.0, 2021.0)"
      ]
     },
     "execution_count": 177,
     "metadata": {},
     "output_type": "execute_result"
    },
    {
     "data": {
      "image/png": "[encoded data removed]",
      "text/plain": [
       "<Figure size 864x576 with 1 Axes>"
      ]
     },
     "metadata": {
      "needs_background": "light"
     },
     "output_type": "display_data"
    }
   ],
   "source": [
    "plt.figure(figsize=(12,8))\n",
    "sns.barplot(y='origin_country', x='Year', data=top_15_df)\n",
    "plt.xlim(1970,2021)"
   ]
  },
  {
   "cell_type": "code",
   "execution_count": null,
   "metadata": {},
   "outputs": [],
   "source": []
  }
 ],
 "metadata": {
  "kernelspec": {
   "display_name": "Python 3.9.7 ('base')",
   "language": "python",
   "name": "python3"
  },
  "language_info": {
   "codemirror_mode": {
    "name": "ipython",
    "version": 3
   },
   "file_extension": ".py",
   "mimetype": "text/x-python",
   "name": "python",
   "nbconvert_exporter": "python",
   "pygments_lexer": "ipython3",
   "version": "3.9.7"
  },
  "orig_nbformat": 4,
  "vscode": {
   "interpreter": {
    "hash": "da819fa61496d6fe53c474801bac149596d1f31729fcef551f305afd74db2b27"
   }
  }
 },
 "nbformat": 4,
 "nbformat_minor": 2
}
